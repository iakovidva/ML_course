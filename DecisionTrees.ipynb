{
 "cells": [
  {
   "cell_type": "markdown",
   "metadata": {
    "deletable": false,
    "editable": false,
    "id": "XDhJ1yiEEGhN",
    "nbgrader": {
     "cell_type": "markdown",
     "checksum": "ce63642cafb413e7903d83d2f2cd3637",
     "grade": false,
     "grade_id": "cell-f62db6dce1ed3f2e",
     "locked": true,
     "schema_version": 3,
     "solution": false,
     "task": false
    }
   },
   "source": [
    "# Assignment 2 - Decision Trees #"
   ]
  },
  {
   "cell_type": "markdown",
   "metadata": {
    "deletable": false,
    "editable": false,
    "id": "gnDTc8ViEGhO",
    "nbgrader": {
     "cell_type": "markdown",
     "checksum": "29d61ce286fdb8fd61c7f8e89a9e1339",
     "grade": false,
     "grade_id": "cell-dce2e73cee9a5017",
     "locked": true,
     "schema_version": 3,
     "solution": false,
     "task": false
    }
   },
   "source": [
    "Welcome to your second assignment. This exercise gives you an introduction to [scikit-learn](https://scikit-learn.org/stable/). A simple but efficient machine learning library in Python. It also gives you a wide understanding on how decision trees work. "
   ]
  },
  {
   "cell_type": "markdown",
   "metadata": {
    "deletable": false,
    "editable": false,
    "id": "R6dv52-3EGhO",
    "nbgrader": {
     "cell_type": "markdown",
     "checksum": "50a108d2f1e1a1ee2fde80743c0543fe",
     "grade": false,
     "grade_id": "cell-83ca2b0456fb85db",
     "locked": true,
     "schema_version": 3,
     "solution": false,
     "task": false
    }
   },
   "source": [
    "After this assignment you will:\n",
    "- Be able to use the scikit-learn library and train your own model from scratch.\n",
    "- Be able to train and understand decision trees."
   ]
  },
  {
   "cell_type": "code",
   "execution_count": 1,
   "metadata": {
    "deletable": false,
    "editable": false,
    "id": "EhGLrp5eEGhO",
    "nbgrader": {
     "cell_type": "code",
     "checksum": "dc7ffb8f510893cec5afb7e154ab4e68",
     "grade": false,
     "grade_id": "cell-2cef6d48eea484d8",
     "locked": true,
     "schema_version": 3,
     "solution": false,
     "task": false
    }
   },
   "outputs": [],
   "source": [
    "# Always run this cell\n",
    "import numpy as np\n",
    "import pandas as pd\n",
    "from sklearn.datasets import load_breast_cancer\n",
    "from sklearn.model_selection import train_test_split\n",
    "from sklearn.tree import DecisionTreeClassifier\n",
    "from sklearn.metrics import f1_score\n",
    "import unittest\n",
    "\n",
    "# USE THIS RANDOM VARIABLE TO PRODUCE THE SAME RESULTS\n",
    "RANDOM_VARIABLE = 42"
   ]
  },
  {
   "cell_type": "markdown",
   "metadata": {
    "id": "Rpe164FIEGhP"
   },
   "source": [
    "## 1. Scikit-Learn and Decision Trees ##\n",
    "\n",
    "You are going to use the scikit-learn library to train a model for detecting breast cancer using the [Breast cancer wisconsin (diagnostic) dataset](https://scikit-learn.org/stable/datasets/index.html#breast-cancer-wisconsin-diagnostic-dataset) by training a model using [decision trees](https://scikit-learn.org/stable/modules/tree.html)."
   ]
  },
  {
   "cell_type": "markdown",
   "metadata": {
    "id": "qLXl-6LvEGhQ"
   },
   "source": [
    "**1.1** Load the breast cancer dataset using the scikit learn library and split the dataset into train and test set using the appropriate function. Use 30% of the dataset as the test set. Define as X the attributes and as y the target values. Do not forget to set the random_state parameter as the *RANDOM_VARIABLE* defined above. Use this variable for all the random_state parameters in this assignment."
   ]
  },
  {
   "cell_type": "code",
   "execution_count": 2,
   "metadata": {
    "deletable": false,
    "id": "zRgHmeWuEGhR",
    "nbgrader": {
     "cell_type": "code",
     "checksum": "4b873328ea05f6ef9c08827168c7b835",
     "grade": false,
     "grade_id": "cell-1f0c2f3918333cf6",
     "locked": false,
     "schema_version": 3,
     "solution": true,
     "task": false
    }
   },
   "outputs": [],
   "source": [
    "# BEGIN CODE HERE\n",
    "X,y = load_breast_cancer(return_X_y=True)\n",
    "X_train,X_test,y_train,y_test = train_test_split(X, y, test_size=0.30, random_state=RANDOM_VARIABLE)\n",
    "\n",
    "#END CODE HERE"
   ]
  },
  {
   "cell_type": "code",
   "execution_count": 3,
   "metadata": {
    "deletable": false,
    "editable": false,
    "id": "NAjzmnvCEGhR",
    "nbgrader": {
     "cell_type": "code",
     "checksum": "3603b2ba8916ffdad9e9c53f31546b4c",
     "grade": true,
     "grade_id": "cell-3f43c895ceaf57a9",
     "locked": true,
     "points": 2,
     "schema_version": 3,
     "solution": false,
     "task": false
    },
    "outputId": "002d5285-c918-4502-82dc-2ac1493a2466"
   },
   "outputs": [
    {
     "name": "stdout",
     "output_type": "stream",
     "text": [
      "Size of train set:398\n",
      "Size of test set:171\n",
      "Unique classes:2\n"
     ]
    }
   ],
   "source": [
    "print(\"Size of train set:{}\".format(len(y_train)))\n",
    "print(\"Size of test set:{}\".format(len(y_test)))\n",
    "print(\"Unique classes:{}\".format(len(set(y_test))))"
   ]
  },
  {
   "cell_type": "markdown",
   "metadata": {
    "deletable": false,
    "editable": false,
    "id": "40MwogbtEGhS",
    "nbgrader": {
     "cell_type": "markdown",
     "checksum": "62285a7bd3ab59718b89f7e09de0fea4",
     "grade": false,
     "grade_id": "cell-1ce621a108e76a15",
     "locked": true,
     "schema_version": 3,
     "solution": false,
     "task": false
    }
   },
   "source": [
    "**Expected output**:  \n",
    "Size of train set:398  \n",
    "Size of test set:171  \n",
    "Unique classes:2  "
   ]
  },
  {
   "cell_type": "markdown",
   "metadata": {
    "id": "OR2OcGo4EGhS"
   },
   "source": [
    "**1.2** Train two DecisionTree classifiers and report the F1 score. Use the information gain for the one classifier and the Gini impurity for the other"
   ]
  },
  {
   "cell_type": "code",
   "execution_count": 4,
   "metadata": {
    "deletable": false,
    "id": "WmXEPzQcEGhT",
    "nbgrader": {
     "cell_type": "code",
     "checksum": "17197b62614427a979fcbab7ed2734dd",
     "grade": false,
     "grade_id": "cell-a7fa1d29509eb2a1",
     "locked": false,
     "schema_version": 3,
     "solution": true,
     "task": false
    }
   },
   "outputs": [],
   "source": [
    "# BEGIN CODE HERE\n",
    "classifier_gini = DecisionTreeClassifier(criterion=\"gini\", random_state=RANDOM_VARIABLE)\n",
    "classifier_igain = DecisionTreeClassifier(criterion=\"entropy\", random_state=RANDOM_VARIABLE)\n",
    "\n",
    "classifier_gini.fit(X_train,y_train)\n",
    "classifier_igain.fit(X_train,y_train)\n",
    "\n",
    "prediction_gini = classifier_gini.predict(X_test)\n",
    "prediction_igain = classifier_igain.predict(X_test)\n",
    "\n",
    "f_measure_gini = f1_score(y_test, prediction_gini)\n",
    "f_measure_igain = f1_score(y_test, prediction_igain)\n",
    "\n",
    "#END CODE HERE"
   ]
  },
  {
   "cell_type": "code",
   "execution_count": 5,
   "metadata": {
    "deletable": false,
    "editable": false,
    "id": "pY4SCVOYEGhT",
    "nbgrader": {
     "cell_type": "code",
     "checksum": "6d9aab4355c27c346f7e6548f233e758",
     "grade": true,
     "grade_id": "cell-09657a82bf4028c4",
     "locked": true,
     "points": 3,
     "schema_version": 3,
     "solution": false,
     "task": false
    },
    "outputId": "763c2499-ce32-4d60-8765-ac56ef9da833"
   },
   "outputs": [
    {
     "name": "stdout",
     "output_type": "stream",
     "text": [
      "F-Measure Gini:0.9528301886792453\n",
      "F-Measure Information Gain:0.9724770642201834\n"
     ]
    }
   ],
   "source": [
    "print(\"F-Measure Gini:{}\".format(f_measure_gini))\n",
    "print(\"F-Measure Information Gain:{}\".format(f_measure_igain))"
   ]
  },
  {
   "cell_type": "markdown",
   "metadata": {
    "deletable": false,
    "editable": false,
    "id": "LoyRWXHpEGhU",
    "nbgrader": {
     "cell_type": "markdown",
     "checksum": "f3facbbef0dd8f25ad12bfec7c174818",
     "grade": false,
     "grade_id": "cell-b0d8630f3b764cf3",
     "locked": true,
     "schema_version": 3,
     "solution": false,
     "task": false
    }
   },
   "source": [
    "**Expected output**:  \n",
    "F-Measure Gini:0.9528301886792453  \n",
    "F-Measure Information Gain:0.9724770642201834  \n"
   ]
  },
  {
   "cell_type": "markdown",
   "metadata": {
    "deletable": false,
    "editable": false,
    "id": "sEF0fAR9EGhU",
    "nbgrader": {
     "cell_type": "markdown",
     "checksum": "f2532168d16e8c9bffba3d7d8e1efce7",
     "grade": false,
     "grade_id": "cell-591ba122016b6db5",
     "locked": true,
     "schema_version": 3,
     "solution": false,
     "task": false
    }
   },
   "source": [
    "**1.3** Find the maximum depth reached by the tree that used the Gini impurity. Train multiple classifier by modifying the max_depth within the range from 1 to maximum depth and save the f1 scores to lists.  "
   ]
  },
  {
   "cell_type": "code",
   "execution_count": 6,
   "metadata": {
    "deletable": false,
    "id": "lzgE4U_CEGhU",
    "nbgrader": {
     "cell_type": "code",
     "checksum": "54cf257e90a3cb5877db81297bedd45c",
     "grade": false,
     "grade_id": "cell-31c58b6161a3907d",
     "locked": false,
     "schema_version": 3,
     "solution": true,
     "task": false
    }
   },
   "outputs": [],
   "source": [
    "# BEGIN CODE HERE\n",
    "depth = classifier_gini.tree_.max_depth\n",
    "fscores_train = []\n",
    "fscores_test = []\n",
    "\n",
    "for i in range(1,depth+1):\n",
    "    classifier_gini = DecisionTreeClassifier(criterion=\"gini\", max_depth=i,random_state=RANDOM_VARIABLE)\n",
    "    classifier_gini.fit(X_train,y_train)\n",
    "    prediction_gini = classifier_gini.predict(X_test)\n",
    "    f_measure_gini = f1_score(y_test, prediction_gini)\n",
    "    fscores_test.append(f_measure_gini)\n",
    "\n",
    "for i in range(1,depth+1):\n",
    "    classifier_gini = DecisionTreeClassifier(criterion=\"gini\", max_depth=i,random_state=RANDOM_VARIABLE)\n",
    "    classifier_gini.fit(X_train,y_train)\n",
    "    prediction_gini = classifier_gini.predict(X_train)\n",
    "    f_measure_gini = f1_score(y_train, prediction_gini)\n",
    "    fscores_train.append(f_measure_gini)\n",
    "\n",
    "#END CODE HERE"
   ]
  },
  {
   "cell_type": "code",
   "execution_count": 7,
   "metadata": {
    "deletable": false,
    "editable": false,
    "id": "8JhtDtFhEGhV",
    "nbgrader": {
     "cell_type": "code",
     "checksum": "70a249937f2f690c6ce855debaed204c",
     "grade": true,
     "grade_id": "cell-0c300109423f53b9",
     "locked": true,
     "points": 5,
     "schema_version": 3,
     "solution": false,
     "task": false
    },
    "outputId": "86341ce2-c6f8-462c-91e1-0ea79612590c"
   },
   "outputs": [
    {
     "name": "stdout",
     "output_type": "stream",
     "text": [
      "Fscores Train:[0.9392712550607287, 0.9533468559837729, 0.9761904761904762, 0.996, 0.996, 0.9979959919839679, 1.0]\n",
      "Fscores Test:[0.9150943396226415, 0.9444444444444444, 0.9724770642201834, 0.9629629629629629, 0.9629629629629629, 0.9674418604651163, 0.9528301886792453]\n"
     ]
    }
   ],
   "source": [
    "print(\"Fscores Train:{}\".format(fscores_train))\n",
    "print(\"Fscores Test:{}\".format(fscores_test))\n"
   ]
  },
  {
   "cell_type": "markdown",
   "metadata": {
    "deletable": false,
    "editable": false,
    "id": "x7OTfYakEGhV",
    "nbgrader": {
     "cell_type": "markdown",
     "checksum": "3db472d2b9db7a42cc012cd96fdeb499",
     "grade": false,
     "grade_id": "cell-75789627f20d2c94",
     "locked": true,
     "schema_version": 3,
     "solution": false,
     "task": false
    }
   },
   "source": [
    "**Expected output**:  \n",
    "Fscores Train:[0.9392712550607287, 0.9533468559837729, 0.9761904761904762, 0.996, 0.996, 0.9979959919839679, 1.0]  \n",
    "Fscores Test:[0.9150943396226415, 0.9444444444444444, 0.9724770642201834, 0.9629629629629629, 0.9629629629629629, 0.9674418604651163, 0.9528301886792453]\n",
    "\n"
   ]
  },
  {
   "cell_type": "markdown",
   "metadata": {
    "deletable": false,
    "editable": false,
    "id": "uZ8a1RvtEGhV",
    "nbgrader": {
     "cell_type": "markdown",
     "checksum": "bca7d4c160c767d27a09b4620d27d56e",
     "grade": false,
     "grade_id": "cell-5906e6d5efa70282",
     "locked": true,
     "schema_version": 3,
     "solution": false,
     "task": false
    }
   },
   "source": [
    "**1.4** Compare the results from the train set with the results from the test set. What do you notice? Explain your findings. How are you going to choose the max_depth of your model?"
   ]
  },
  {
   "cell_type": "markdown",
   "metadata": {
    "deletable": false,
    "id": "pogyFeFgEGhV",
    "nbgrader": {
     "cell_type": "markdown",
     "checksum": "424ac10e4e22ca9e32207deee3bf0f57",
     "grade": true,
     "grade_id": "cell-c9c6ea0e40d98b83",
     "locked": false,
     "points": 5,
     "schema_version": 3,
     "solution": true,
     "task": false
    }
   },
   "source": [
    "Παρατηρείται ότι όσο μεγαλώνει το βάθος του δέντρου στην περίπτωση του train set η ακρίβεια όλο και μεγαλώνει μέχρι που φτάνει στο 100%. Ωστόσο η ακρίβεια στα test δεδομένα αυξάνει μέχρι το βάθος 3 όπου παίρνει μέγιστη τιμή ίση με 97.2% και από εκεί και πέρα αρχίζει να πέφτει. Αυτό οφείλεται στο γεγονός ότι το δέντρο αρχίζει να γίνεται πιο περιοριστικό από όσο θα έπρεπε και αρχίζει να κάνει overfit τα δεδομένα. Αυτό φαίνεται από το γεγονός ότι το train σκορ αυξάνεται ενώ το test σκορ μειώνεται. Το καλύτερο βάθος μέγιστο βάθος για αυτό το δέντρο είναι το 3."
   ]
  },
  {
   "cell_type": "markdown",
   "metadata": {
    "deletable": false,
    "editable": false,
    "id": "w6xzwlzDEGhW",
    "nbgrader": {
     "cell_type": "markdown",
     "checksum": "217666fcc2e383d6f2c1904c9d6a71be",
     "grade": false,
     "grade_id": "cell-9ef42e6c90ea2ffe",
     "locked": true,
     "schema_version": 3,
     "solution": false,
     "task": false
    }
   },
   "source": [
    "## 2.0 Pipelines ##\n",
    "\n",
    "**2.1** In this part of the exercise you are going to build a pipeline from scratch for a classification problem. Load the **income.csv** file and train a DecisionTree model that will predict the *income* variable. This dataset is a modification of the original Adult Income dataset found [here](http://archive.ics.uci.edu/ml/datasets/Adult). Report the f1-score and accuracy score of the test set found in **income_test.csv**. Your pipeline should be able to handle missing values and categorical features (scikit-learn's decision trees do not handle categorical values). You can preprocess the dataset as you like in order to achieve higher scores.  "
   ]
  },
  {
   "cell_type": "code",
   "execution_count": 8,
   "metadata": {
    "deletable": false,
    "id": "n8bXuEvBEGhW",
    "nbgrader": {
     "cell_type": "code",
     "checksum": "152ab2dd6861b198b879a78ebadc4ee4",
     "grade": true,
     "grade_id": "cell-dd950ab2eb40d8a4",
     "locked": false,
     "points": 45,
     "schema_version": 3,
     "solution": true,
     "task": false
    },
    "outputId": "697f99c0-2e1c-43ec-d46f-03d25df1227f"
   },
   "outputs": [
    {
     "name": "stdout",
     "output_type": "stream",
     "text": [
      "Time needed:  10.81548261642456\n",
      "f1 score:  0.8508651648710415\n",
      "accuracy score:  0.8508651648710415\n"
     ]
    }
   ],
   "source": [
    "# BEGIN CODE HERE\n",
    "from sklearn.pipeline import Pipeline\n",
    "from sklearn.tree import DecisionTreeClassifier\n",
    "from sklearn.metrics import accuracy_score\n",
    "from sklearn.model_selection import GridSearchCV\n",
    "from sklearn.preprocessing import OneHotEncoder\n",
    "from sklearn.compose import ColumnTransformer\n",
    "from sklearn.preprocessing import MinMaxScaler, StandardScaler\n",
    "from sklearn.impute import SimpleImputer, KNNImputer\n",
    "#import seaborn as sns\n",
    "import time\n",
    "import urllib.request\n",
    "\n",
    "income = 'https://raw.githubusercontent.com/iakovidva/ML_course/main/data/income.csv'\n",
    "filename_income = 'income.csv'\n",
    "urllib.request.urlretrieve(income, filename_income)\n",
    "income_train = pd.read_csv(\"income.csv\")\n",
    "\n",
    "income_test = 'https://raw.githubusercontent.com/iakovidva/ML_course/main/data/income_test.csv'\n",
    "filename_income_test = 'income_test.csv'\n",
    "urllib.request.urlretrieve(income_test, filename_income_test)\n",
    "income_test = pd.read_csv(\"income_test.csv\")\n",
    "\n",
    "\n",
    "start = time.time()\n",
    "\n",
    "# Μετά από ελέγχους με τη βοήθεια του seaborn με boxplots και έλεγχος των τιμών για τις αριθμητικές μεταβλητές\n",
    "# αποφάσισα να βγάλω τα εξής δεδομένα θεωρώντας τα ως ακραίες τιμές. Από τα 32561 παραδείγματα, υπάρχουν μόλις\n",
    "# 159 με capital-gain>90999, 44 με capital-loss>2500, 146 με hours-per-week>85 και 142 με fnlwgt>6*10^5.\n",
    "indexNames = income_train[\n",
    "    (income_train['capital-gain'] > 90999) |\n",
    "    (income_train['capital-loss'] > 2500) |\n",
    "    (income_train['hours-per-week'] > 85) |\n",
    "    (income_train['fnlwgt'] > 6e+5)\n",
    "    ].index\n",
    "income_train.drop(indexNames , inplace=True, axis=0)\n",
    "\n",
    "X_train = income_train.drop(\"income\", axis=1)\n",
    "y_train = income_train[\"income\"]\n",
    "\n",
    "X_test = income_test.drop(\"income\", axis=1)\n",
    "y_test = income_test[\"income\"]\n",
    "\n",
    "\n",
    "# Συπλήρωση μέσου όρου στα αριθμητικά δεδομένα τα οποία δεν έχουν τιμή και κανονικοποίηση των δεδομένων έπειτα.\n",
    "numeric_transformer = Pipeline(steps=[\n",
    "    ('imputer', SimpleImputer(strategy='median')),\n",
    "    ('scaler', StandardScaler())\n",
    "])\n",
    "\n",
    "# Συμπλήρωση με σταθερή τιμή \"missing\" στα παραδείγματα που λείπει κάποιο κατηγορηματικό χαρακτηριστικό.\n",
    "# Μετατροπή των κατηγοριματικών χαρακτηριστικών σε oneHotEncode. Η κωδικοποίηση θα μπορούσε να αποφευχθεί στο\n",
    "# χακακτηριστικό \"occupation \" καθώς έχει σχετικά πολλές διακριτές τιμές(14), ωστόσο δεν παρατηρήθηκε κάποια\n",
    "# σημαντική καθυστέρηση στο χρόνο εκτέλεσης.\n",
    "categorical_transformer = Pipeline(steps=[\n",
    "    ('imputer', SimpleImputer(strategy='constant', fill_value='missing')),\n",
    "    ('onehot', OneHotEncoder(handle_unknown='ignore', sparse=False))\n",
    "])\n",
    "\n",
    "# Εφαρμογή της προεπεξεργασίας των επιλεγμένων δεδομένων στα αντίστοιχα pipelines για αριθμητικές και\n",
    "# κατηγοριματικές τιμές.\n",
    "preprocessor = ColumnTransformer(\n",
    "    transformers=[\n",
    "        ('num', numeric_transformer, list(X_train.select_dtypes(exclude=\"object\").columns)),\n",
    "        ('cat', categorical_transformer, list(X_train.select_dtypes(include=\"object\").columns)),\n",
    "    ])\n",
    "\n",
    "# Τελικό pipeline για προεπεξεργασία δεδομένων και δημιουργία του δένδρου απόφασης.\n",
    "pipe = Pipeline(steps=[\n",
    "    ('preprocessor', preprocessor),\n",
    "    ('decision_tree', DecisionTreeClassifier(random_state = RANDOM_VARIABLE))\n",
    "])\n",
    "\n",
    "# Grid Search για την εύρεση καλύτερων παραμέτρων σχετικά με το βάθος του δέντρου, το ελάχιστο πλήθος διάσπασης\n",
    "# και το ελάχιστο πλήθος στοιχείων ανά φύλλο. \n",
    "testing_parameters= [{\n",
    "    'decision_tree__max_depth': [4, 8],\n",
    "    'decision_tree__min_samples_split': [2,4,8],\n",
    "    'decision_tree__min_samples_leaf' : [4, 8, 16],\n",
    "}]\n",
    "\n",
    "grid_search = GridSearchCV(\n",
    "    pipe,\n",
    "    testing_parameters,\n",
    "    cv=3\n",
    ")\n",
    "\n",
    "# Fit του grid_search στα δεδομένα εκπαίδευσης, εύρεση καλύτερου κατηγοριοποιητή, fit αυτού στα δεδομένα και\n",
    "# predict στα δεδομένα ελέγχου.\n",
    "grid_search.fit(X_train, y_train)\n",
    "best_esti = grid_search.best_estimator_\n",
    "best_esti.fit(X_train,y_train)\n",
    "preds = best_esti.predict(X_test)\n",
    "\n",
    "print('Time needed: ', time.time()-start)\n",
    "\n",
    "# Σχετικά με το σκορ F1 παρατηρείται τεράστια διαφορά αν θέσω ως θετική κλάση την κλάση '<=50Κ' ή την '>50Κ'.\n",
    "# Αυτό οφείλεται στο γεγονός ότι υπάρχουν τα τριπλάσια παραδείγματα με κλάση την '<=50Κ', κάτι που βοηθάει στο\n",
    "# να έχω μεγαλύτερη ανάκληση και ακρίβεια. Αντίθετα τα παραδείγματα που ανήκουν στην κλάση '>50Κ' είναι \n",
    "# δυσκολότερο να εντοπιστούν, κάτι που θα ήθελε περαιτέρω προσοχή αλλά δεν νομίζω να χρειάζεται σε αυτό το σημείο.\n",
    "\n",
    "fScore = f1_score(preds,y_test,average='micro')\n",
    "accScore = accuracy_score(y_test, preds)\n",
    "print('f1 score: ',fScore)\n",
    "print('accuracy score: ', accScore)\n",
    "\n",
    "#END CODE HERE"
   ]
  },
  {
   "cell_type": "markdown",
   "metadata": {
    "deletable": false,
    "editable": false,
    "id": "6ddBrFDHEGhX",
    "nbgrader": {
     "cell_type": "markdown",
     "checksum": "ee9d4c2635307395bdef2efb941106ae",
     "grade": false,
     "grade_id": "cell-2c3327274958bbad",
     "locked": true,
     "points": 20,
     "schema_version": 3,
     "solution": false,
     "task": true
    }
   },
   "source": [
    "**2.2** Describe the process you followed to achieve the results above. Your description should include, but is not limited to the following \n",
    "- How do you handle missing values and why\n",
    "- How do you handle categorical variables and why\n",
    "- Any further preprocessing steps\n",
    "- How do you evaluate your model and how did you choose its parameters \n",
    "- Report any additional results and comments on your approach."
   ]
  },
  {
   "cell_type": "markdown",
   "metadata": {
    "deletable": false,
    "editable": false,
    "id": "7h4PHwB5EGhX",
    "nbgrader": {
     "cell_type": "markdown",
     "checksum": "8cef3f333ab449ed91b81ea96695e712",
     "grade": false,
     "grade_id": "cell-555d20216f9bbec2",
     "locked": true,
     "schema_version": 3,
     "solution": false,
     "task": false
    }
   },
   "source": [
    "## 3.0 Common Issues ## "
   ]
  },
  {
   "cell_type": "markdown",
   "metadata": {
    "id": "ZZiEid2eEGhX"
   },
   "source": [
    "**3.0** Run the following code to define a DecisionTreeModel and load the **income** dataset only with the numerical variables. Then, answer the following questions. "
   ]
  },
  {
   "cell_type": "code",
   "execution_count": 9,
   "metadata": {
    "deletable": false,
    "editable": false,
    "id": "yBJCUokrEGhX",
    "nbgrader": {
     "cell_type": "code",
     "checksum": "ae0f57b86252cc38b02cac3d05e08bbf",
     "grade": false,
     "grade_id": "cell-d7f58621bad12aad",
     "locked": true,
     "schema_version": 3,
     "solution": false,
     "task": false
    }
   },
   "outputs": [],
   "source": [
    "# Load Data\n",
    "columns = ['age','fnlwgt','education_num','hours-per-week',\"capital-loss\",\"capital-gain\",\"income\"]\n",
    "data = pd.read_csv('income.csv',usecols=columns)\n",
    "data_test = pd.read_csv('income_test.csv',usecols=columns)\n",
    "# Convert target variable to 0 and 1\n",
    "data[\"income\"] = data[\"income\"].map({ \"<=50K\": 0, \">50K\": 1 })\n",
    "data_test[\"income\"] = data_test[\"income\"].map({ \"<=50K\": 0, \">50K\": 1 })\n",
    "# Create X and y\n",
    "X_train = data.drop([\"income\"],axis=1)\n",
    "y_train = data['income'].values\n",
    "X_test = data_test.drop([\"income\"],axis=1)\n",
    "y_test = data_test['income'].values\n",
    "# Classifier\n",
    "classifier = DecisionTreeClassifier(min_samples_leaf=4)"
   ]
  },
  {
   "cell_type": "markdown",
   "metadata": {
    "deletable": false,
    "editable": false,
    "id": "BFqvbDf1EGhX",
    "nbgrader": {
     "cell_type": "markdown",
     "checksum": "c3981752b539236e99415ab6e2cbea1f",
     "grade": false,
     "grade_id": "cell-9b18d6c4e381a9f5",
     "locked": true,
     "schema_version": 3,
     "solution": false,
     "task": false
    }
   },
   "source": [
    "**3.1** Draw a learning curve for the classifer for the train and test set loaded above."
   ]
  },
  {
   "cell_type": "code",
   "execution_count": 10,
   "metadata": {
    "deletable": false,
    "id": "4CMenG_pEGhX",
    "nbgrader": {
     "cell_type": "code",
     "checksum": "cebb0d89b3a2b7b278e2494c37ac7c0f",
     "grade": true,
     "grade_id": "cell-905e7dceeb4172c3",
     "locked": false,
     "points": 5,
     "schema_version": 3,
     "solution": true,
     "task": false
    },
    "outputId": "73e13e58-ae69-4776-e63f-76fadb3b1f0f"
   },
   "outputs": [
    {
     "data": {
      "image/png": "[encoded data removed]",
      "text/plain": [
       "<Figure size 432x288 with 1 Axes>"
      ]
     },
     "metadata": {
      "needs_background": "light"
     },
     "output_type": "display_data"
    }
   ],
   "source": [
    "# BEGIN CODE HERE\n",
    "\n",
    "import matplotlib.pyplot as plt\n",
    "%matplotlib inline\n",
    "\n",
    "import sklearn \n",
    "\n",
    "def learning_curve(X,y,classifier):\n",
    "    train_sizes, train_scores, test_scores, _, _ = \\\n",
    "        sklearn.model_selection.learning_curve(classifier, X, y, cv=None, n_jobs=-1,\n",
    "                       train_sizes= np.linspace(0.1, 1.0, 5),\n",
    "                       return_times=True)\n",
    "\n",
    "    train_scores_mean = np.mean(train_scores, axis=1)\n",
    "    test_scores_mean = np.mean(test_scores, axis=1)\n",
    "    \n",
    "    plt.figure()\n",
    "    plt.plot(train_sizes, test_scores_mean, 'o-', color=\"b\",label=\"Test_Scores\")\n",
    "    plt.plot(train_sizes, train_scores_mean, 'o-', color=\"r\",label=\"Train_Scores\")\n",
    "    plt.xlabel(\"Train size\")\n",
    "    plt.ylabel(\"Accuracy score\")\n",
    "    plt.title('Learning curve')\n",
    "    plt.legend(loc=\"best\")\n",
    "    plt.show()\n",
    "\n",
    "X, y = X_train, y_train\n",
    "learning_curve(X, y,classifier)\n",
    "\n",
    "#END CODE HERE"
   ]
  },
  {
   "cell_type": "markdown",
   "metadata": {
    "deletable": false,
    "editable": false,
    "id": "xBIz83HfEGhY",
    "nbgrader": {
     "cell_type": "markdown",
     "checksum": "361d4753f3c8491a34ff55b6fa3a49b5",
     "grade": false,
     "grade_id": "cell-1f23f3e27600f019",
     "locked": true,
     "schema_version": 3,
     "solution": false,
     "task": false
    }
   },
   "source": [
    "**3.2** Do you notice any problems with the classifier? If so, what can you do to change this."
   ]
  },
  {
   "cell_type": "markdown",
   "metadata": {
    "deletable": false,
    "id": "TVSFg7ViEGhY",
    "nbgrader": {
     "cell_type": "markdown",
     "checksum": "baff993106fd2b655fd47d05c75ea4ce",
     "grade": true,
     "grade_id": "cell-d60d7e6175d184e9",
     "locked": false,
     "points": 5,
     "schema_version": 3,
     "solution": true,
     "task": false
    }
   },
   "source": [
    "Παρατηρώ ότι τα train scores παραμένουν πολύ υψηλά καθόλη τη διάρκεια εκπαίδευσης ενώ τα test scores ακολουθούν μια σχεδόν σταθερή πορεία που από ένα σημείο αρχίζουν να πέφτουν κιόλας. Από αυτό συμπαιραίνεται ότι υπάρχει υψηλή διακύμανση στο μοντέλο, δηλαδή κάνει overfit τα δεδομένα εκπαίδευσης. Μία πολύ γρήγορη αλλαγή θα μπορούσε να είναι η αλλαγή της παραμέτρου min_samples_leaf σε έναν αρκετά μεγαλύτερο αριθμό, ώστε να μην μεγαλώνει το βάθος του δένδρου και να αποφύγουμε το overfitting. Με την τιμή min_samples_leaf = 4 το δένδρο φτάνει σε βάθος 39!"
   ]
  },
  {
   "cell_type": "markdown",
   "metadata": {
    "deletable": false,
    "editable": false,
    "id": "25UBXTEkEGhY",
    "nbgrader": {
     "cell_type": "markdown",
     "checksum": "747645b33cb4f5c14796504fac6bf3ce",
     "grade": false,
     "grade_id": "cell-89715acd6c51b332",
     "locked": true,
     "schema_version": 3,
     "solution": false,
     "task": false
    }
   },
   "source": [
    "**3.3** Implement your solution using the cells below. Report your results and the process you followed. "
   ]
  },
  {
   "cell_type": "code",
   "execution_count": 11,
   "metadata": {
    "deletable": false,
    "id": "udyoF_PvEGhY",
    "nbgrader": {
     "cell_type": "code",
     "checksum": "53187b3e939fffed99cbba46e3639281",
     "grade": true,
     "grade_id": "cell-f44811f1e99ee41e",
     "locked": false,
     "points": 10,
     "schema_version": 3,
     "solution": true,
     "task": false
    },
    "outputId": "7997b7af-9eb6-4868-89df-c270da760c06"
   },
   "outputs": [
    {
     "data": {
      "image/png": "[encoded data removed]",
      "text/plain": [
       "<Figure size 432x288 with 1 Axes>"
      ]
     },
     "metadata": {
      "needs_background": "light"
     },
     "output_type": "display_data"
    },
    {
     "name": "stdout",
     "output_type": "stream",
     "text": [
      "Depth:  39 \n",
      "Train accuracy:  0.9015386505328461 \n",
      "Test accuracy:  0.7911851126346718\n"
     ]
    },
    {
     "data": {
      "image/png": "[encoded data removed]",
      "text/plain": [
       "<Figure size 432x288 with 1 Axes>"
      ]
     },
     "metadata": {
      "needs_background": "light"
     },
     "output_type": "display_data"
    },
    {
     "name": "stdout",
     "output_type": "stream",
     "text": [
      "Depth:  7 \n",
      "Train accuracy:  0.8305641718620436 \n",
      "Test accuracy:  0.8224616389160954\n"
     ]
    }
   ],
   "source": [
    "# BEGIN CODE HERE\n",
    "\n",
    "classifier.fit(X_train,y_train)\n",
    "learning_curve(X,y,classifier)\n",
    "print('Depth: ',classifier.tree_.max_depth, '\\nTrain accuracy: ',\\\n",
    "      classifier.score(X_train,y_train),'\\nTest accuracy: ',classifier.score(X_test,y_test))\n",
    "\n",
    "# Με την παράμετρο min_impurity_decrease περιορίζουμε το μέγεθος του δέντρου. Ένας κόμβος θα σπάσει σε αριστερό\n",
    "# και δεξί παιδί μόνο αν μειώσει την ανομοιογένεια κατά 0.001 αντί για 0 που είναι το default. Περιορίζει δηλαδή\n",
    "# το σπάσιμο των κόμβων, άρα το ύψος του δέντρου, άρα και το overfit. Με παρόμοιο τρόπο βοηθάει και η επιλογή του\n",
    "# min_samples_leaf=100, μην αφήνοντας κανένα φύλλο να έχει λιγότερο από 100 δείγματα. Το πρώτο δεν αφήνει έναν \n",
    "# κόμβο να σπάσει από πριν, ενώ το δεύτερο σε περίπτωση που το σπάσιμο παραβιάσει το όριο των 100 δειγμάτων \n",
    "# σε ένα από τα δύο φύλλα γυρνάει πίσω.\n",
    "# Έτσι έχουμε την επιθυμητή καμπύλη, η καμπύλη της ακρίβειας στα test δεδομένα ανεβαίνει συνεχώς ενώ από ένα\n",
    "# σημείο και μετά η ακρίβεια στα train πέφτει, αποφεύγοντας το overfitting. Το μοντέλο πηγαίνει εξίσου καλά και \n",
    "# στα train και στα test δεδομένα, το ύψος του δέντρου γίνεται 7 από 39 και η ακρίβεια στα δεδομένα ελέγχου \n",
    "# ανεβαίνει κατά 3%, ενώ στα δεδομένα εκπαίδευσης πέφτει κατά 7%.\n",
    "\n",
    "classifier2 = DecisionTreeClassifier(min_samples_leaf=100, min_impurity_decrease=0.001)\n",
    "classifier2.fit(X_train,y_train)\n",
    "learning_curve(X,y,classifier2)\n",
    "print('Depth: ',classifier2.tree_.max_depth, '\\nTrain accuracy: ',\\\n",
    "      classifier2.score(X_train,y_train),'\\nTest accuracy: ',classifier2.score(X_test,y_test))\n",
    "#END CODE HERE"
   ]
  }
 ],
 "metadata": {
  "colab": {
   "name": "DecisionTrees.ipynb",
   "provenance": []
  },
  "kernelspec": {
   "display_name": "Python 3",
   "language": "python",
   "name": "python3"
  },
  "language_info": {
   "codemirror_mode": {
    "name": "ipython",
    "version": 3
   },
   "file_extension": ".py",
   "mimetype": "text/x-python",
   "name": "python",
   "nbconvert_exporter": "python",
   "pygments_lexer": "ipython3",
   "version": "3.8.10"
  },
  "pycharm": {
   "stem_cell": {
    "cell_type": "raw",
    "metadata": {
     "collapsed": false
    },
    "source": []
   }
  }
 },
 "nbformat": 4,
 "nbformat_minor": 1
}
